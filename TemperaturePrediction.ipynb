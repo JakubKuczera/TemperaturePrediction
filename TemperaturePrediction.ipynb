{
 "cells": [
  {
   "cell_type": "markdown",
   "id": "d3eb6fd3-7986-46ca-a0ff-a2d455d74d7b",
   "metadata": {},
   "source": [
    "# Jakub Kuczera Temperature Prediction"
   ]
  },
  {
   "cell_type": "markdown",
   "id": "b794d739-6605-4a0c-b6a1-e5965a0734eb",
   "metadata": {},
   "source": [
    "## Data Exploration and Preparation"
   ]
  },
  {
   "cell_type": "code",
   "execution_count": 25,
   "id": "7ca9d197-f477-415c-aa01-47b22d17297b",
   "metadata": {},
   "outputs": [],
   "source": [
    "import tensorflow as tf\n",
    "import pandas as pd\n",
    "import numpy as np\n",
    "import matplotlib.pyplot as plt\n",
    "import keras_tuner as kt"
   ]
  },
  {
   "cell_type": "code",
   "execution_count": 26,
   "id": "4f00e246-b78d-4833-a65e-2c7fb55bd9cf",
   "metadata": {},
   "outputs": [
    {
     "data": {
      "text/html": [
       "<div>\n",
       "<style scoped>\n",
       "    .dataframe tbody tr th:only-of-type {\n",
       "        vertical-align: middle;\n",
       "    }\n",
       "\n",
       "    .dataframe tbody tr th {\n",
       "        vertical-align: top;\n",
       "    }\n",
       "\n",
       "    .dataframe thead th {\n",
       "        text-align: right;\n",
       "    }\n",
       "</style>\n",
       "<table border=\"1\" class=\"dataframe\">\n",
       "  <thead>\n",
       "    <tr style=\"text-align: right;\">\n",
       "      <th></th>\n",
       "      <th>Date Time</th>\n",
       "      <th>p (mbar)</th>\n",
       "      <th>T (degC)</th>\n",
       "      <th>Tpot (K)</th>\n",
       "      <th>Tdew (degC)</th>\n",
       "      <th>rh (%)</th>\n",
       "      <th>VPmax (mbar)</th>\n",
       "      <th>VPact (mbar)</th>\n",
       "      <th>VPdef (mbar)</th>\n",
       "      <th>sh (g/kg)</th>\n",
       "      <th>H2OC (mmol/mol)</th>\n",
       "      <th>rho (g/m**3)</th>\n",
       "      <th>wv (m/s)</th>\n",
       "      <th>max. wv (m/s)</th>\n",
       "      <th>wd (deg)</th>\n",
       "    </tr>\n",
       "  </thead>\n",
       "  <tbody>\n",
       "    <tr>\n",
       "      <th>0</th>\n",
       "      <td>01.01.2009 00:10:00</td>\n",
       "      <td>996.52</td>\n",
       "      <td>-8.02</td>\n",
       "      <td>265.40</td>\n",
       "      <td>-8.90</td>\n",
       "      <td>93.3</td>\n",
       "      <td>3.33</td>\n",
       "      <td>3.11</td>\n",
       "      <td>0.22</td>\n",
       "      <td>1.94</td>\n",
       "      <td>3.12</td>\n",
       "      <td>1307.75</td>\n",
       "      <td>1.03</td>\n",
       "      <td>1.75</td>\n",
       "      <td>152.3</td>\n",
       "    </tr>\n",
       "    <tr>\n",
       "      <th>1</th>\n",
       "      <td>01.01.2009 00:20:00</td>\n",
       "      <td>996.57</td>\n",
       "      <td>-8.41</td>\n",
       "      <td>265.01</td>\n",
       "      <td>-9.28</td>\n",
       "      <td>93.4</td>\n",
       "      <td>3.23</td>\n",
       "      <td>3.02</td>\n",
       "      <td>0.21</td>\n",
       "      <td>1.89</td>\n",
       "      <td>3.03</td>\n",
       "      <td>1309.80</td>\n",
       "      <td>0.72</td>\n",
       "      <td>1.50</td>\n",
       "      <td>136.1</td>\n",
       "    </tr>\n",
       "    <tr>\n",
       "      <th>2</th>\n",
       "      <td>01.01.2009 00:30:00</td>\n",
       "      <td>996.53</td>\n",
       "      <td>-8.51</td>\n",
       "      <td>264.91</td>\n",
       "      <td>-9.31</td>\n",
       "      <td>93.9</td>\n",
       "      <td>3.21</td>\n",
       "      <td>3.01</td>\n",
       "      <td>0.20</td>\n",
       "      <td>1.88</td>\n",
       "      <td>3.02</td>\n",
       "      <td>1310.24</td>\n",
       "      <td>0.19</td>\n",
       "      <td>0.63</td>\n",
       "      <td>171.6</td>\n",
       "    </tr>\n",
       "    <tr>\n",
       "      <th>3</th>\n",
       "      <td>01.01.2009 00:40:00</td>\n",
       "      <td>996.51</td>\n",
       "      <td>-8.31</td>\n",
       "      <td>265.12</td>\n",
       "      <td>-9.07</td>\n",
       "      <td>94.2</td>\n",
       "      <td>3.26</td>\n",
       "      <td>3.07</td>\n",
       "      <td>0.19</td>\n",
       "      <td>1.92</td>\n",
       "      <td>3.08</td>\n",
       "      <td>1309.19</td>\n",
       "      <td>0.34</td>\n",
       "      <td>0.50</td>\n",
       "      <td>198.0</td>\n",
       "    </tr>\n",
       "    <tr>\n",
       "      <th>4</th>\n",
       "      <td>01.01.2009 00:50:00</td>\n",
       "      <td>996.51</td>\n",
       "      <td>-8.27</td>\n",
       "      <td>265.15</td>\n",
       "      <td>-9.04</td>\n",
       "      <td>94.1</td>\n",
       "      <td>3.27</td>\n",
       "      <td>3.08</td>\n",
       "      <td>0.19</td>\n",
       "      <td>1.92</td>\n",
       "      <td>3.09</td>\n",
       "      <td>1309.00</td>\n",
       "      <td>0.32</td>\n",
       "      <td>0.63</td>\n",
       "      <td>214.3</td>\n",
       "    </tr>\n",
       "  </tbody>\n",
       "</table>\n",
       "</div>"
      ],
      "text/plain": [
       "             Date Time  p (mbar)  T (degC)  Tpot (K)  Tdew (degC)  rh (%)  \\\n",
       "0  01.01.2009 00:10:00    996.52     -8.02    265.40        -8.90    93.3   \n",
       "1  01.01.2009 00:20:00    996.57     -8.41    265.01        -9.28    93.4   \n",
       "2  01.01.2009 00:30:00    996.53     -8.51    264.91        -9.31    93.9   \n",
       "3  01.01.2009 00:40:00    996.51     -8.31    265.12        -9.07    94.2   \n",
       "4  01.01.2009 00:50:00    996.51     -8.27    265.15        -9.04    94.1   \n",
       "\n",
       "   VPmax (mbar)  VPact (mbar)  VPdef (mbar)  sh (g/kg)  H2OC (mmol/mol)  \\\n",
       "0          3.33          3.11          0.22       1.94             3.12   \n",
       "1          3.23          3.02          0.21       1.89             3.03   \n",
       "2          3.21          3.01          0.20       1.88             3.02   \n",
       "3          3.26          3.07          0.19       1.92             3.08   \n",
       "4          3.27          3.08          0.19       1.92             3.09   \n",
       "\n",
       "   rho (g/m**3)  wv (m/s)  max. wv (m/s)  wd (deg)  \n",
       "0       1307.75      1.03           1.75     152.3  \n",
       "1       1309.80      0.72           1.50     136.1  \n",
       "2       1310.24      0.19           0.63     171.6  \n",
       "3       1309.19      0.34           0.50     198.0  \n",
       "4       1309.00      0.32           0.63     214.3  "
      ]
     },
     "execution_count": 26,
     "metadata": {},
     "output_type": "execute_result"
    }
   ],
   "source": [
    "data = pd.read_csv('jena_climate_2009_2016.csv')\n",
    "data.head()"
   ]
  },
  {
   "cell_type": "markdown",
   "id": "55cb8602-8665-4047-8735-3fcc6c631ce1",
   "metadata": {},
   "source": [
    "#### We check if we have any missing values"
   ]
  },
  {
   "cell_type": "code",
   "execution_count": 27,
   "id": "19ae3f9d-336e-4f3d-bb47-16dafa1f08e3",
   "metadata": {},
   "outputs": [
    {
     "name": "stdout",
     "output_type": "stream",
     "text": [
      "Date Time          0\n",
      "p (mbar)           0\n",
      "T (degC)           0\n",
      "Tpot (K)           0\n",
      "Tdew (degC)        0\n",
      "rh (%)             0\n",
      "VPmax (mbar)       0\n",
      "VPact (mbar)       0\n",
      "VPdef (mbar)       0\n",
      "sh (g/kg)          0\n",
      "H2OC (mmol/mol)    0\n",
      "rho (g/m**3)       0\n",
      "wv (m/s)           0\n",
      "max. wv (m/s)      0\n",
      "wd (deg)           0\n",
      "dtype: int64\n"
     ]
    }
   ],
   "source": [
    "print(data.isnull().sum())"
   ]
  },
  {
   "cell_type": "code",
   "execution_count": 28,
   "id": "854f3c25-60d1-4894-b320-30b3b35ae0bf",
   "metadata": {},
   "outputs": [
    {
     "name": "stdout",
     "output_type": "stream",
     "text": [
      "(420551, 15)\n"
     ]
    }
   ],
   "source": [
    "print(data.shape)"
   ]
  },
  {
   "cell_type": "markdown",
   "id": "7fd32255-e395-4cf7-a6ce-c717fd9de878",
   "metadata": {},
   "source": [
    "#### We take every 6th row in our data so we have temperature value every hour"
   ]
  },
  {
   "cell_type": "code",
   "execution_count": 29,
   "id": "3a6cb9b8-9124-4f85-bd32-5b3c3b111172",
   "metadata": {},
   "outputs": [
    {
     "name": "stdout",
     "output_type": "stream",
     "text": [
      "(70091, 15)\n"
     ]
    },
    {
     "data": {
      "text/html": [
       "<div>\n",
       "<style scoped>\n",
       "    .dataframe tbody tr th:only-of-type {\n",
       "        vertical-align: middle;\n",
       "    }\n",
       "\n",
       "    .dataframe tbody tr th {\n",
       "        vertical-align: top;\n",
       "    }\n",
       "\n",
       "    .dataframe thead th {\n",
       "        text-align: right;\n",
       "    }\n",
       "</style>\n",
       "<table border=\"1\" class=\"dataframe\">\n",
       "  <thead>\n",
       "    <tr style=\"text-align: right;\">\n",
       "      <th></th>\n",
       "      <th>Date Time</th>\n",
       "      <th>p (mbar)</th>\n",
       "      <th>T (degC)</th>\n",
       "      <th>Tpot (K)</th>\n",
       "      <th>Tdew (degC)</th>\n",
       "      <th>rh (%)</th>\n",
       "      <th>VPmax (mbar)</th>\n",
       "      <th>VPact (mbar)</th>\n",
       "      <th>VPdef (mbar)</th>\n",
       "      <th>sh (g/kg)</th>\n",
       "      <th>H2OC (mmol/mol)</th>\n",
       "      <th>rho (g/m**3)</th>\n",
       "      <th>wv (m/s)</th>\n",
       "      <th>max. wv (m/s)</th>\n",
       "      <th>wd (deg)</th>\n",
       "    </tr>\n",
       "    <tr>\n",
       "      <th>Date Time</th>\n",
       "      <th></th>\n",
       "      <th></th>\n",
       "      <th></th>\n",
       "      <th></th>\n",
       "      <th></th>\n",
       "      <th></th>\n",
       "      <th></th>\n",
       "      <th></th>\n",
       "      <th></th>\n",
       "      <th></th>\n",
       "      <th></th>\n",
       "      <th></th>\n",
       "      <th></th>\n",
       "      <th></th>\n",
       "      <th></th>\n",
       "    </tr>\n",
       "  </thead>\n",
       "  <tbody>\n",
       "    <tr>\n",
       "      <th>2009-01-01 01:00:00</th>\n",
       "      <td>01.01.2009 01:00:00</td>\n",
       "      <td>996.50</td>\n",
       "      <td>-8.05</td>\n",
       "      <td>265.38</td>\n",
       "      <td>-8.78</td>\n",
       "      <td>94.4</td>\n",
       "      <td>3.33</td>\n",
       "      <td>3.14</td>\n",
       "      <td>0.19</td>\n",
       "      <td>1.96</td>\n",
       "      <td>3.15</td>\n",
       "      <td>1307.86</td>\n",
       "      <td>0.21</td>\n",
       "      <td>0.63</td>\n",
       "      <td>192.7</td>\n",
       "    </tr>\n",
       "    <tr>\n",
       "      <th>2009-01-01 02:00:00</th>\n",
       "      <td>01.01.2009 02:00:00</td>\n",
       "      <td>996.62</td>\n",
       "      <td>-8.88</td>\n",
       "      <td>264.54</td>\n",
       "      <td>-9.77</td>\n",
       "      <td>93.2</td>\n",
       "      <td>3.12</td>\n",
       "      <td>2.90</td>\n",
       "      <td>0.21</td>\n",
       "      <td>1.81</td>\n",
       "      <td>2.91</td>\n",
       "      <td>1312.25</td>\n",
       "      <td>0.25</td>\n",
       "      <td>0.63</td>\n",
       "      <td>190.3</td>\n",
       "    </tr>\n",
       "    <tr>\n",
       "      <th>2009-01-01 03:00:00</th>\n",
       "      <td>01.01.2009 03:00:00</td>\n",
       "      <td>996.84</td>\n",
       "      <td>-8.81</td>\n",
       "      <td>264.59</td>\n",
       "      <td>-9.66</td>\n",
       "      <td>93.5</td>\n",
       "      <td>3.13</td>\n",
       "      <td>2.93</td>\n",
       "      <td>0.20</td>\n",
       "      <td>1.83</td>\n",
       "      <td>2.94</td>\n",
       "      <td>1312.18</td>\n",
       "      <td>0.18</td>\n",
       "      <td>0.63</td>\n",
       "      <td>167.2</td>\n",
       "    </tr>\n",
       "    <tr>\n",
       "      <th>2009-01-01 04:00:00</th>\n",
       "      <td>01.01.2009 04:00:00</td>\n",
       "      <td>996.99</td>\n",
       "      <td>-9.05</td>\n",
       "      <td>264.34</td>\n",
       "      <td>-10.02</td>\n",
       "      <td>92.6</td>\n",
       "      <td>3.07</td>\n",
       "      <td>2.85</td>\n",
       "      <td>0.23</td>\n",
       "      <td>1.78</td>\n",
       "      <td>2.85</td>\n",
       "      <td>1313.61</td>\n",
       "      <td>0.10</td>\n",
       "      <td>0.38</td>\n",
       "      <td>240.0</td>\n",
       "    </tr>\n",
       "    <tr>\n",
       "      <th>2009-01-01 05:00:00</th>\n",
       "      <td>01.01.2009 05:00:00</td>\n",
       "      <td>997.46</td>\n",
       "      <td>-9.63</td>\n",
       "      <td>263.72</td>\n",
       "      <td>-10.65</td>\n",
       "      <td>92.2</td>\n",
       "      <td>2.94</td>\n",
       "      <td>2.71</td>\n",
       "      <td>0.23</td>\n",
       "      <td>1.69</td>\n",
       "      <td>2.71</td>\n",
       "      <td>1317.19</td>\n",
       "      <td>0.40</td>\n",
       "      <td>0.88</td>\n",
       "      <td>157.0</td>\n",
       "    </tr>\n",
       "  </tbody>\n",
       "</table>\n",
       "</div>"
      ],
      "text/plain": [
       "                               Date Time  p (mbar)  T (degC)  Tpot (K)  \\\n",
       "Date Time                                                                \n",
       "2009-01-01 01:00:00  01.01.2009 01:00:00    996.50     -8.05    265.38   \n",
       "2009-01-01 02:00:00  01.01.2009 02:00:00    996.62     -8.88    264.54   \n",
       "2009-01-01 03:00:00  01.01.2009 03:00:00    996.84     -8.81    264.59   \n",
       "2009-01-01 04:00:00  01.01.2009 04:00:00    996.99     -9.05    264.34   \n",
       "2009-01-01 05:00:00  01.01.2009 05:00:00    997.46     -9.63    263.72   \n",
       "\n",
       "                     Tdew (degC)  rh (%)  VPmax (mbar)  VPact (mbar)  \\\n",
       "Date Time                                                              \n",
       "2009-01-01 01:00:00        -8.78    94.4          3.33          3.14   \n",
       "2009-01-01 02:00:00        -9.77    93.2          3.12          2.90   \n",
       "2009-01-01 03:00:00        -9.66    93.5          3.13          2.93   \n",
       "2009-01-01 04:00:00       -10.02    92.6          3.07          2.85   \n",
       "2009-01-01 05:00:00       -10.65    92.2          2.94          2.71   \n",
       "\n",
       "                     VPdef (mbar)  sh (g/kg)  H2OC (mmol/mol)  rho (g/m**3)  \\\n",
       "Date Time                                                                     \n",
       "2009-01-01 01:00:00          0.19       1.96             3.15       1307.86   \n",
       "2009-01-01 02:00:00          0.21       1.81             2.91       1312.25   \n",
       "2009-01-01 03:00:00          0.20       1.83             2.94       1312.18   \n",
       "2009-01-01 04:00:00          0.23       1.78             2.85       1313.61   \n",
       "2009-01-01 05:00:00          0.23       1.69             2.71       1317.19   \n",
       "\n",
       "                     wv (m/s)  max. wv (m/s)  wd (deg)  \n",
       "Date Time                                               \n",
       "2009-01-01 01:00:00      0.21           0.63     192.7  \n",
       "2009-01-01 02:00:00      0.25           0.63     190.3  \n",
       "2009-01-01 03:00:00      0.18           0.63     167.2  \n",
       "2009-01-01 04:00:00      0.10           0.38     240.0  \n",
       "2009-01-01 05:00:00      0.40           0.88     157.0  "
      ]
     },
     "execution_count": 29,
     "metadata": {},
     "output_type": "execute_result"
    }
   ],
   "source": [
    "data = data[5::6]\n",
    "data.index = pd.to_datetime(data['Date Time'], format='%d.%m.%Y %H:%M:%S')\n",
    "print(data.shape)\n",
    "data.head()"
   ]
  },
  {
   "cell_type": "markdown",
   "id": "c002847c-359f-4e37-b94d-f2a52de774e1",
   "metadata": {},
   "source": [
    "#### We take only Temperature column since we will predict this value only, then we plot it"
   ]
  },
  {
   "cell_type": "code",
   "execution_count": 30,
   "id": "9d23f218-b317-4785-83ef-90dd21a9cd3e",
   "metadata": {},
   "outputs": [],
   "source": [
    "data = data[['T (degC)']]"
   ]
  },
  {
   "cell_type": "code",
   "execution_count": 31,
   "id": "10c82672-5239-4679-9fe7-d0768338c58c",
   "metadata": {},
   "outputs": [
    {
     "data": {
      "image/png": "[encoded data removed]",
      "text/plain": [
       "<Figure size 640x480 with 1 Axes>"
      ]
     },
     "metadata": {},
     "output_type": "display_data"
    }
   ],
   "source": [
    "data.plot()\n",
    "plt.xlabel('Years')\n",
    "plt.ylabel('Temperature (degC)')\n",
    "plt.title('Temperature over years')\n",
    "plt.show()"
   ]
  },
  {
   "cell_type": "markdown",
   "id": "1a5e2735-1af9-4c4d-8e8f-10594b360cde",
   "metadata": {},
   "source": [
    "#### Then we create 6 new columns with shifted values, because we gonna predict temperature for next hour based on 6 previous hours"
   ]
  },
  {
   "cell_type": "code",
   "execution_count": 32,
   "id": "4bb02f3f-2797-488b-b0da-6946b2c4f175",
   "metadata": {},
   "outputs": [],
   "source": [
    "for i in range(1, 7):\n",
    "    data[f'T-{abs(i)}'] = data['T (degC)'].shift(i)"
   ]
  },
  {
   "cell_type": "code",
   "execution_count": 33,
   "id": "6b65ddd8-9d1d-48fc-946b-b936006aacd4",
   "metadata": {},
   "outputs": [
    {
     "data": {
      "text/html": [
       "<div>\n",
       "<style scoped>\n",
       "    .dataframe tbody tr th:only-of-type {\n",
       "        vertical-align: middle;\n",
       "    }\n",
       "\n",
       "    .dataframe tbody tr th {\n",
       "        vertical-align: top;\n",
       "    }\n",
       "\n",
       "    .dataframe thead th {\n",
       "        text-align: right;\n",
       "    }\n",
       "</style>\n",
       "<table border=\"1\" class=\"dataframe\">\n",
       "  <thead>\n",
       "    <tr style=\"text-align: right;\">\n",
       "      <th></th>\n",
       "      <th>T (degC)</th>\n",
       "      <th>T-1</th>\n",
       "      <th>T-2</th>\n",
       "      <th>T-3</th>\n",
       "      <th>T-4</th>\n",
       "      <th>T-5</th>\n",
       "      <th>T-6</th>\n",
       "    </tr>\n",
       "    <tr>\n",
       "      <th>Date Time</th>\n",
       "      <th></th>\n",
       "      <th></th>\n",
       "      <th></th>\n",
       "      <th></th>\n",
       "      <th></th>\n",
       "      <th></th>\n",
       "      <th></th>\n",
       "    </tr>\n",
       "  </thead>\n",
       "  <tbody>\n",
       "    <tr>\n",
       "      <th>2009-01-01 07:00:00</th>\n",
       "      <td>-9.17</td>\n",
       "      <td>-9.67</td>\n",
       "      <td>-9.63</td>\n",
       "      <td>-9.05</td>\n",
       "      <td>-8.81</td>\n",
       "      <td>-8.88</td>\n",
       "      <td>-8.05</td>\n",
       "    </tr>\n",
       "    <tr>\n",
       "      <th>2009-01-01 08:00:00</th>\n",
       "      <td>-8.10</td>\n",
       "      <td>-9.17</td>\n",
       "      <td>-9.67</td>\n",
       "      <td>-9.63</td>\n",
       "      <td>-9.05</td>\n",
       "      <td>-8.81</td>\n",
       "      <td>-8.88</td>\n",
       "    </tr>\n",
       "    <tr>\n",
       "      <th>2009-01-01 09:00:00</th>\n",
       "      <td>-7.66</td>\n",
       "      <td>-8.10</td>\n",
       "      <td>-9.17</td>\n",
       "      <td>-9.67</td>\n",
       "      <td>-9.63</td>\n",
       "      <td>-9.05</td>\n",
       "      <td>-8.81</td>\n",
       "    </tr>\n",
       "    <tr>\n",
       "      <th>2009-01-01 10:00:00</th>\n",
       "      <td>-7.04</td>\n",
       "      <td>-7.66</td>\n",
       "      <td>-8.10</td>\n",
       "      <td>-9.17</td>\n",
       "      <td>-9.67</td>\n",
       "      <td>-9.63</td>\n",
       "      <td>-9.05</td>\n",
       "    </tr>\n",
       "    <tr>\n",
       "      <th>2009-01-01 11:00:00</th>\n",
       "      <td>-7.41</td>\n",
       "      <td>-7.04</td>\n",
       "      <td>-7.66</td>\n",
       "      <td>-8.10</td>\n",
       "      <td>-9.17</td>\n",
       "      <td>-9.67</td>\n",
       "      <td>-9.63</td>\n",
       "    </tr>\n",
       "    <tr>\n",
       "      <th>2009-01-01 12:00:00</th>\n",
       "      <td>-6.87</td>\n",
       "      <td>-7.41</td>\n",
       "      <td>-7.04</td>\n",
       "      <td>-7.66</td>\n",
       "      <td>-8.10</td>\n",
       "      <td>-9.17</td>\n",
       "      <td>-9.67</td>\n",
       "    </tr>\n",
       "    <tr>\n",
       "      <th>2009-01-01 13:00:00</th>\n",
       "      <td>-5.89</td>\n",
       "      <td>-6.87</td>\n",
       "      <td>-7.41</td>\n",
       "      <td>-7.04</td>\n",
       "      <td>-7.66</td>\n",
       "      <td>-8.10</td>\n",
       "      <td>-9.17</td>\n",
       "    </tr>\n",
       "    <tr>\n",
       "      <th>2009-01-01 14:00:00</th>\n",
       "      <td>-5.94</td>\n",
       "      <td>-5.89</td>\n",
       "      <td>-6.87</td>\n",
       "      <td>-7.41</td>\n",
       "      <td>-7.04</td>\n",
       "      <td>-7.66</td>\n",
       "      <td>-8.10</td>\n",
       "    </tr>\n",
       "    <tr>\n",
       "      <th>2009-01-01 15:00:00</th>\n",
       "      <td>-5.69</td>\n",
       "      <td>-5.94</td>\n",
       "      <td>-5.89</td>\n",
       "      <td>-6.87</td>\n",
       "      <td>-7.41</td>\n",
       "      <td>-7.04</td>\n",
       "      <td>-7.66</td>\n",
       "    </tr>\n",
       "    <tr>\n",
       "      <th>2009-01-01 16:00:00</th>\n",
       "      <td>-5.40</td>\n",
       "      <td>-5.69</td>\n",
       "      <td>-5.94</td>\n",
       "      <td>-5.89</td>\n",
       "      <td>-6.87</td>\n",
       "      <td>-7.41</td>\n",
       "      <td>-7.04</td>\n",
       "    </tr>\n",
       "  </tbody>\n",
       "</table>\n",
       "</div>"
      ],
      "text/plain": [
       "                     T (degC)   T-1   T-2   T-3   T-4   T-5   T-6\n",
       "Date Time                                                        \n",
       "2009-01-01 07:00:00     -9.17 -9.67 -9.63 -9.05 -8.81 -8.88 -8.05\n",
       "2009-01-01 08:00:00     -8.10 -9.17 -9.67 -9.63 -9.05 -8.81 -8.88\n",
       "2009-01-01 09:00:00     -7.66 -8.10 -9.17 -9.67 -9.63 -9.05 -8.81\n",
       "2009-01-01 10:00:00     -7.04 -7.66 -8.10 -9.17 -9.67 -9.63 -9.05\n",
       "2009-01-01 11:00:00     -7.41 -7.04 -7.66 -8.10 -9.17 -9.67 -9.63\n",
       "2009-01-01 12:00:00     -6.87 -7.41 -7.04 -7.66 -8.10 -9.17 -9.67\n",
       "2009-01-01 13:00:00     -5.89 -6.87 -7.41 -7.04 -7.66 -8.10 -9.17\n",
       "2009-01-01 14:00:00     -5.94 -5.89 -6.87 -7.41 -7.04 -7.66 -8.10\n",
       "2009-01-01 15:00:00     -5.69 -5.94 -5.89 -6.87 -7.41 -7.04 -7.66\n",
       "2009-01-01 16:00:00     -5.40 -5.69 -5.94 -5.89 -6.87 -7.41 -7.04"
      ]
     },
     "execution_count": 33,
     "metadata": {},
     "output_type": "execute_result"
    }
   ],
   "source": [
    "data.dropna(axis = 0, inplace = True)\n",
    "data.head(10)"
   ]
  },
  {
   "cell_type": "markdown",
   "id": "072a58b3-ed9c-4180-ab5c-14c587e7169a",
   "metadata": {},
   "source": [
    "#### We split data into diffrent datasets and we reshape them so we can use them in LSTM model"
   ]
  },
  {
   "cell_type": "code",
   "execution_count": 34,
   "id": "f20131c9-e535-4a17-a10d-c5e792c42a31",
   "metadata": {},
   "outputs": [
    {
     "data": {
      "text/plain": [
       "((70085, 6), (70085,))"
      ]
     },
     "execution_count": 34,
     "metadata": {},
     "output_type": "execute_result"
    }
   ],
   "source": [
    "features = data[data.columns[1:]]\n",
    "target = data['T (degC)']\n",
    "features.shape, target.shape"
   ]
  },
  {
   "cell_type": "code",
   "execution_count": 35,
   "id": "a04333c2-125f-4b74-9736-56a1fe058d2a",
   "metadata": {},
   "outputs": [],
   "source": [
    "X_train, y_train = features[:60000], target[:60000]\n",
    "X_val, y_val = features[60000:67000], target[60000:67000]\n",
    "X_test, y_test = features[67000:], target[67000:]"
   ]
  },
  {
   "cell_type": "code",
   "execution_count": 36,
   "id": "56d3db01-4c4b-4f8f-9270-57c80b483f91",
   "metadata": {},
   "outputs": [
    {
     "name": "stdout",
     "output_type": "stream",
     "text": [
      "Shape of train set ((60000, 6), (60000,))\n",
      "Shape of validation set ((7000, 6), (7000,))\n",
      "Shape of test set ((3085, 6), (3085,))\n"
     ]
    }
   ],
   "source": [
    "print(f'Shape of train set {X_train.shape, y_train.shape}')\n",
    "print(f'Shape of validation set {X_val.shape, y_val.shape}')\n",
    "print(f'Shape of test set {X_test.shape, y_test.shape}')"
   ]
  },
  {
   "cell_type": "code",
   "execution_count": 37,
   "id": "fd7418f7-cf76-4525-b557-75a3d963f9c8",
   "metadata": {},
   "outputs": [],
   "source": [
    "X_train = np.reshape(X_train.values, (X_train.shape[0], 1, X_train.shape[1]))\n",
    "X_val = np.reshape(X_val.values, (X_val.shape[0], 1, X_val.shape[1]))\n",
    "X_test = np.reshape(X_test.values, (X_test.shape[0], 1, X_test.shape[1]))"
   ]
  },
  {
   "cell_type": "code",
   "execution_count": 38,
   "id": "f4aee870-3755-4f46-bfb8-10dde9c1aa2d",
   "metadata": {},
   "outputs": [
    {
     "data": {
      "text/plain": [
       "(60000, 1, 6)"
      ]
     },
     "execution_count": 38,
     "metadata": {},
     "output_type": "execute_result"
    }
   ],
   "source": [
    "X_train.shape"
   ]
  },
  {
   "cell_type": "markdown",
   "id": "0f7bb161-5ee4-4655-ac9a-63f67a070a64",
   "metadata": {},
   "source": [
    "## Model Creation"
   ]
  },
  {
   "cell_type": "markdown",
   "id": "c73f7ba4-c80e-42ff-a58a-6dfa529330da",
   "metadata": {},
   "source": [
    "#### We build advanced LSTM Model (maybe a little to advance for this task) and using keras tuner we find best hyperparameters for it"
   ]
  },
  {
   "cell_type": "code",
   "execution_count": 39,
   "id": "c21b40c8-56fd-4938-a61b-77c550e07320",
   "metadata": {},
   "outputs": [],
   "source": [
    "from tensorflow.keras.models import Sequential\n",
    "from tensorflow.keras.layers import Dense, LSTM, Dropout\n",
    "\n",
    "def build_model(hp):\n",
    "    \n",
    "    units = hp.Choice('units', values=[16,32,64])\n",
    "    dropout = hp.Choice('dropout', values=[0.2, 0.3, 0.4, 0.5])\n",
    "    \n",
    "    model = Sequential([    \n",
    "        LSTM(units, activation='tanh', return_sequences=True),\n",
    "        Dropout(dropout),\n",
    "        LSTM(units, activation='tanh', return_sequences=True),\n",
    "        Dropout(dropout),\n",
    "        LSTM(units, activation='tanh'),\n",
    "        Dropout(dropout),\n",
    "        Dense(1, activation='linear')])\n",
    "\n",
    "    model.compile(loss='mse', optimizer='Adam', metrics='RootMeanSquaredError')\n",
    "    return model"
   ]
  },
  {
   "cell_type": "code",
   "execution_count": 40,
   "id": "e6db3aa4-2409-4c1f-a764-d43c73403fae",
   "metadata": {},
   "outputs": [],
   "source": [
    "tuner = kt.Hyperband(build_model, objective=\"val_loss\", project_name='Tuner')"
   ]
  },
  {
   "cell_type": "code",
   "execution_count": 41,
   "id": "115af84d-b50a-47d8-a68d-56bddd3cc1aa",
   "metadata": {},
   "outputs": [
    {
     "name": "stdout",
     "output_type": "stream",
     "text": [
      "Trial 11 Complete [00h 00m 16s]\n",
      "val_loss: 5.847759246826172\n",
      "\n",
      "Best val_loss So Far: 1.3559190034866333\n",
      "Total elapsed time: 00h 03m 17s\n",
      "INFO:tensorflow:Oracle triggered exit\n"
     ]
    }
   ],
   "source": [
    "tuner.search(X_train, y_train, epochs=20, validation_split=0.2)"
   ]
  },
  {
   "cell_type": "markdown",
   "id": "2766dbce-5fd5-4100-8687-52c5552b2046",
   "metadata": {},
   "source": [
    "#### We print best hyperparameters and we create model using them, then we train it"
   ]
  },
  {
   "cell_type": "code",
   "execution_count": 42,
   "id": "d5f304d3-f4a1-4fd1-a71f-a2112f00178c",
   "metadata": {},
   "outputs": [
    {
     "name": "stdout",
     "output_type": "stream",
     "text": [
      "Best nr of neurons: 64, Best value for dropout: 0.3\n"
     ]
    }
   ],
   "source": [
    "best = tuner.get_best_hyperparameters()[0]\n",
    "print(f'Best nr of neurons: {best.get(\"units\")}, Best value for dropout: {best.get(\"dropout\")}')"
   ]
  },
  {
   "cell_type": "code",
   "execution_count": 43,
   "id": "c21e1359-2f72-4eab-bdc5-c474e5ecf497",
   "metadata": {},
   "outputs": [],
   "source": [
    "model = tuner.hypermodel.build(best)"
   ]
  },
  {
   "cell_type": "code",
   "execution_count": 44,
   "id": "838bf820-3dbf-426e-80e9-97adba04323d",
   "metadata": {},
   "outputs": [],
   "source": [
    "mc = tf.keras.callbacks.ModelCheckpoint(monitor='val_loss', mode='min',save_best_only=True, filepath = r\"model/best_model.h5\", verbose = 1)"
   ]
  },
  {
   "cell_type": "code",
   "execution_count": 45,
   "id": "426c5e4b-1022-4381-9f53-833a4d8cb49b",
   "metadata": {
    "collapsed": true,
    "jupyter": {
     "outputs_hidden": true
    },
    "tags": []
   },
   "outputs": [
    {
     "name": "stdout",
     "output_type": "stream",
     "text": [
      "Epoch 1/50\n",
      "1866/1875 [============================>.] - ETA: 0s - loss: 10.2154 - root_mean_squared_error: 3.1962\n",
      "Epoch 1: val_loss improved from inf to 0.99854, saving model to model\\best_model.h5\n",
      "1875/1875 [==============================] - 14s 5ms/step - loss: 10.1837 - root_mean_squared_error: 3.1912 - val_loss: 0.9985 - val_root_mean_squared_error: 0.9993\n",
      "Epoch 2/50\n",
      "1873/1875 [============================>.] - ETA: 0s - loss: 2.9614 - root_mean_squared_error: 1.7209\n",
      "Epoch 2: val_loss did not improve from 0.99854\n",
      "1875/1875 [==============================] - 7s 4ms/step - loss: 2.9650 - root_mean_squared_error: 1.7219 - val_loss: 1.1589 - val_root_mean_squared_error: 1.0765\n",
      "Epoch 3/50\n",
      "1861/1875 [============================>.] - ETA: 0s - loss: 2.7052 - root_mean_squared_error: 1.6447\n",
      "Epoch 3: val_loss did not improve from 0.99854\n",
      "1875/1875 [==============================] - 7s 4ms/step - loss: 2.7040 - root_mean_squared_error: 1.6444 - val_loss: 1.3210 - val_root_mean_squared_error: 1.1494\n",
      "Epoch 4/50\n",
      "1863/1875 [============================>.] - ETA: 0s - loss: 2.5629 - root_mean_squared_error: 1.6009\n",
      "Epoch 4: val_loss improved from 0.99854 to 0.67539, saving model to model\\best_model.h5\n",
      "1875/1875 [==============================] - 7s 4ms/step - loss: 2.5620 - root_mean_squared_error: 1.6006 - val_loss: 0.6754 - val_root_mean_squared_error: 0.8218\n",
      "Epoch 5/50\n",
      "1873/1875 [============================>.] - ETA: 0s - loss: 2.4727 - root_mean_squared_error: 1.5725\n",
      "Epoch 5: val_loss improved from 0.67539 to 0.64082, saving model to model\\best_model.h5\n",
      "1875/1875 [==============================] - 7s 4ms/step - loss: 2.4751 - root_mean_squared_error: 1.5732 - val_loss: 0.6408 - val_root_mean_squared_error: 0.8005\n",
      "Epoch 6/50\n",
      "1867/1875 [============================>.] - ETA: 0s - loss: 2.4103 - root_mean_squared_error: 1.5525\n",
      "Epoch 6: val_loss did not improve from 0.64082\n",
      "1875/1875 [==============================] - 7s 4ms/step - loss: 2.4135 - root_mean_squared_error: 1.5535 - val_loss: 0.7815 - val_root_mean_squared_error: 0.8840\n",
      "Epoch 7/50\n",
      "1873/1875 [============================>.] - ETA: 0s - loss: 2.3701 - root_mean_squared_error: 1.5395\n",
      "Epoch 7: val_loss did not improve from 0.64082\n",
      "1875/1875 [==============================] - 7s 4ms/step - loss: 2.3700 - root_mean_squared_error: 1.5395 - val_loss: 0.8010 - val_root_mean_squared_error: 0.8950\n",
      "Epoch 8/50\n",
      "1874/1875 [============================>.] - ETA: 0s - loss: 2.2738 - root_mean_squared_error: 1.5079\n",
      "Epoch 8: val_loss did not improve from 0.64082\n",
      "1875/1875 [==============================] - 7s 4ms/step - loss: 2.2735 - root_mean_squared_error: 1.5078 - val_loss: 0.9570 - val_root_mean_squared_error: 0.9783\n",
      "Epoch 9/50\n",
      "1865/1875 [============================>.] - ETA: 0s - loss: 2.2305 - root_mean_squared_error: 1.4935\n",
      "Epoch 9: val_loss did not improve from 0.64082\n",
      "1875/1875 [==============================] - 7s 4ms/step - loss: 2.2306 - root_mean_squared_error: 1.4935 - val_loss: 0.6944 - val_root_mean_squared_error: 0.8333\n",
      "Epoch 10/50\n",
      "1866/1875 [============================>.] - ETA: 0s - loss: 2.1712 - root_mean_squared_error: 1.4735\n",
      "Epoch 10: val_loss did not improve from 0.64082\n",
      "1875/1875 [==============================] - 7s 4ms/step - loss: 2.1718 - root_mean_squared_error: 1.4737 - val_loss: 0.6904 - val_root_mean_squared_error: 0.8309\n",
      "Epoch 11/50\n",
      "1871/1875 [============================>.] - ETA: 0s - loss: 2.1320 - root_mean_squared_error: 1.4601\n",
      "Epoch 11: val_loss did not improve from 0.64082\n",
      "1875/1875 [==============================] - 7s 4ms/step - loss: 2.1313 - root_mean_squared_error: 1.4599 - val_loss: 0.6752 - val_root_mean_squared_error: 0.8217\n",
      "Epoch 12/50\n",
      "1869/1875 [============================>.] - ETA: 0s - loss: 2.0788 - root_mean_squared_error: 1.4418\n",
      "Epoch 12: val_loss did not improve from 0.64082\n",
      "1875/1875 [==============================] - 7s 4ms/step - loss: 2.0787 - root_mean_squared_error: 1.4418 - val_loss: 0.8122 - val_root_mean_squared_error: 0.9012\n",
      "Epoch 13/50\n",
      "1862/1875 [============================>.] - ETA: 0s - loss: 2.0190 - root_mean_squared_error: 1.4209\n",
      "Epoch 13: val_loss did not improve from 0.64082\n",
      "1875/1875 [==============================] - 7s 4ms/step - loss: 2.0209 - root_mean_squared_error: 1.4216 - val_loss: 1.0538 - val_root_mean_squared_error: 1.0266\n",
      "Epoch 14/50\n",
      "1863/1875 [============================>.] - ETA: 0s - loss: 2.0022 - root_mean_squared_error: 1.4150\n",
      "Epoch 14: val_loss did not improve from 0.64082\n",
      "1875/1875 [==============================] - 7s 4ms/step - loss: 2.0024 - root_mean_squared_error: 1.4151 - val_loss: 0.6773 - val_root_mean_squared_error: 0.8230\n",
      "Epoch 15/50\n",
      "1875/1875 [==============================] - ETA: 0s - loss: 1.9679 - root_mean_squared_error: 1.4028\n",
      "Epoch 15: val_loss did not improve from 0.64082\n",
      "1875/1875 [==============================] - 7s 4ms/step - loss: 1.9679 - root_mean_squared_error: 1.4028 - val_loss: 0.6615 - val_root_mean_squared_error: 0.8133\n",
      "Epoch 16/50\n",
      "1863/1875 [============================>.] - ETA: 0s - loss: 1.9581 - root_mean_squared_error: 1.3993\n",
      "Epoch 16: val_loss did not improve from 0.64082\n",
      "1875/1875 [==============================] - 7s 4ms/step - loss: 1.9577 - root_mean_squared_error: 1.3992 - val_loss: 0.8757 - val_root_mean_squared_error: 0.9358\n",
      "Epoch 17/50\n",
      "1866/1875 [============================>.] - ETA: 0s - loss: 1.8781 - root_mean_squared_error: 1.3704\n",
      "Epoch 17: val_loss did not improve from 0.64082\n",
      "1875/1875 [==============================] - 7s 4ms/step - loss: 1.8784 - root_mean_squared_error: 1.3706 - val_loss: 0.7436 - val_root_mean_squared_error: 0.8623\n",
      "Epoch 18/50\n",
      "1865/1875 [============================>.] - ETA: 0s - loss: 1.8669 - root_mean_squared_error: 1.3664\n",
      "Epoch 18: val_loss did not improve from 0.64082\n",
      "1875/1875 [==============================] - 7s 4ms/step - loss: 1.8659 - root_mean_squared_error: 1.3660 - val_loss: 0.7860 - val_root_mean_squared_error: 0.8866\n",
      "Epoch 19/50\n",
      "1863/1875 [============================>.] - ETA: 0s - loss: 1.8784 - root_mean_squared_error: 1.3705\n",
      "Epoch 19: val_loss did not improve from 0.64082\n",
      "1875/1875 [==============================] - 7s 4ms/step - loss: 1.8782 - root_mean_squared_error: 1.3705 - val_loss: 0.6539 - val_root_mean_squared_error: 0.8086\n",
      "Epoch 20/50\n",
      "1871/1875 [============================>.] - ETA: 0s - loss: 1.8332 - root_mean_squared_error: 1.3540\n",
      "Epoch 20: val_loss improved from 0.64082 to 0.60844, saving model to model\\best_model.h5\n",
      "1875/1875 [==============================] - 7s 4ms/step - loss: 1.8330 - root_mean_squared_error: 1.3539 - val_loss: 0.6084 - val_root_mean_squared_error: 0.7800\n",
      "Epoch 21/50\n",
      "1867/1875 [============================>.] - ETA: 0s - loss: 1.8049 - root_mean_squared_error: 1.3435\n",
      "Epoch 21: val_loss did not improve from 0.60844\n",
      "1875/1875 [==============================] - 7s 4ms/step - loss: 1.8033 - root_mean_squared_error: 1.3429 - val_loss: 0.8176 - val_root_mean_squared_error: 0.9042\n",
      "Epoch 22/50\n",
      "1861/1875 [============================>.] - ETA: 0s - loss: 1.7815 - root_mean_squared_error: 1.3347\n",
      "Epoch 22: val_loss did not improve from 0.60844\n",
      "1875/1875 [==============================] - 7s 4ms/step - loss: 1.7824 - root_mean_squared_error: 1.3351 - val_loss: 1.2701 - val_root_mean_squared_error: 1.1270\n",
      "Epoch 23/50\n",
      "1875/1875 [==============================] - ETA: 0s - loss: 1.7753 - root_mean_squared_error: 1.3324\n",
      "Epoch 23: val_loss did not improve from 0.60844\n",
      "1875/1875 [==============================] - 7s 4ms/step - loss: 1.7753 - root_mean_squared_error: 1.3324 - val_loss: 0.6575 - val_root_mean_squared_error: 0.8108\n",
      "Epoch 24/50\n",
      "1873/1875 [============================>.] - ETA: 0s - loss: 1.7771 - root_mean_squared_error: 1.3331\n",
      "Epoch 24: val_loss did not improve from 0.60844\n",
      "1875/1875 [==============================] - 7s 4ms/step - loss: 1.7768 - root_mean_squared_error: 1.3330 - val_loss: 0.6201 - val_root_mean_squared_error: 0.7874\n",
      "Epoch 25/50\n",
      "1868/1875 [============================>.] - ETA: 0s - loss: 1.7489 - root_mean_squared_error: 1.3225\n",
      "Epoch 25: val_loss did not improve from 0.60844\n",
      "1875/1875 [==============================] - 7s 4ms/step - loss: 1.7475 - root_mean_squared_error: 1.3219 - val_loss: 0.7938 - val_root_mean_squared_error: 0.8909\n",
      "Epoch 26/50\n",
      "1870/1875 [============================>.] - ETA: 0s - loss: 1.7441 - root_mean_squared_error: 1.3207\n",
      "Epoch 26: val_loss improved from 0.60844 to 0.59487, saving model to model\\best_model.h5\n",
      "1875/1875 [==============================] - 7s 4ms/step - loss: 1.7448 - root_mean_squared_error: 1.3209 - val_loss: 0.5949 - val_root_mean_squared_error: 0.7713\n",
      "Epoch 27/50\n",
      "1867/1875 [============================>.] - ETA: 0s - loss: 1.7128 - root_mean_squared_error: 1.3087\n",
      "Epoch 27: val_loss did not improve from 0.59487\n",
      "1875/1875 [==============================] - 7s 4ms/step - loss: 1.7124 - root_mean_squared_error: 1.3086 - val_loss: 0.7193 - val_root_mean_squared_error: 0.8481\n",
      "Epoch 28/50\n",
      "1871/1875 [============================>.] - ETA: 0s - loss: 1.7305 - root_mean_squared_error: 1.3155\n",
      "Epoch 28: val_loss did not improve from 0.59487\n",
      "1875/1875 [==============================] - 7s 4ms/step - loss: 1.7314 - root_mean_squared_error: 1.3158 - val_loss: 0.7206 - val_root_mean_squared_error: 0.8489\n",
      "Epoch 29/50\n",
      "1875/1875 [==============================] - ETA: 0s - loss: 1.7122 - root_mean_squared_error: 1.3085\n",
      "Epoch 29: val_loss did not improve from 0.59487\n",
      "1875/1875 [==============================] - 7s 4ms/step - loss: 1.7122 - root_mean_squared_error: 1.3085 - val_loss: 0.6629 - val_root_mean_squared_error: 0.8142\n",
      "Epoch 30/50\n",
      "1865/1875 [============================>.] - ETA: 0s - loss: 1.6719 - root_mean_squared_error: 1.2930\n",
      "Epoch 30: val_loss did not improve from 0.59487\n",
      "1875/1875 [==============================] - 7s 4ms/step - loss: 1.6716 - root_mean_squared_error: 1.2929 - val_loss: 0.7367 - val_root_mean_squared_error: 0.8583\n",
      "Epoch 31/50\n",
      "1863/1875 [============================>.] - ETA: 0s - loss: 1.6796 - root_mean_squared_error: 1.2960\n",
      "Epoch 31: val_loss did not improve from 0.59487\n",
      "1875/1875 [==============================] - 7s 4ms/step - loss: 1.6781 - root_mean_squared_error: 1.2954 - val_loss: 0.7256 - val_root_mean_squared_error: 0.8518\n",
      "Epoch 32/50\n",
      "1871/1875 [============================>.] - ETA: 0s - loss: 1.6832 - root_mean_squared_error: 1.2974\n",
      "Epoch 32: val_loss did not improve from 0.59487\n",
      "1875/1875 [==============================] - 7s 4ms/step - loss: 1.6830 - root_mean_squared_error: 1.2973 - val_loss: 0.6723 - val_root_mean_squared_error: 0.8199\n",
      "Epoch 33/50\n",
      "1873/1875 [============================>.] - ETA: 0s - loss: 1.6924 - root_mean_squared_error: 1.3009\n",
      "Epoch 33: val_loss did not improve from 0.59487\n",
      "1875/1875 [==============================] - 7s 4ms/step - loss: 1.6929 - root_mean_squared_error: 1.3011 - val_loss: 0.8673 - val_root_mean_squared_error: 0.9313\n",
      "Epoch 34/50\n",
      "1873/1875 [============================>.] - ETA: 0s - loss: 1.6232 - root_mean_squared_error: 1.2740\n",
      "Epoch 34: val_loss did not improve from 0.59487\n",
      "1875/1875 [==============================] - 7s 4ms/step - loss: 1.6227 - root_mean_squared_error: 1.2738 - val_loss: 0.6330 - val_root_mean_squared_error: 0.7956\n",
      "Epoch 35/50\n",
      "1866/1875 [============================>.] - ETA: 0s - loss: 1.6666 - root_mean_squared_error: 1.2910\n",
      "Epoch 35: val_loss did not improve from 0.59487\n",
      "1875/1875 [==============================] - 7s 4ms/step - loss: 1.6662 - root_mean_squared_error: 1.2908 - val_loss: 0.6856 - val_root_mean_squared_error: 0.8280\n",
      "Epoch 36/50\n",
      "1873/1875 [============================>.] - ETA: 0s - loss: 1.6415 - root_mean_squared_error: 1.2812\n",
      "Epoch 36: val_loss did not improve from 0.59487\n",
      "1875/1875 [==============================] - 7s 4ms/step - loss: 1.6417 - root_mean_squared_error: 1.2813 - val_loss: 0.8262 - val_root_mean_squared_error: 0.9090\n",
      "Epoch 37/50\n",
      "1870/1875 [============================>.] - ETA: 0s - loss: 1.6153 - root_mean_squared_error: 1.2709\n",
      "Epoch 37: val_loss did not improve from 0.59487\n",
      "1875/1875 [==============================] - 7s 4ms/step - loss: 1.6146 - root_mean_squared_error: 1.2707 - val_loss: 0.6344 - val_root_mean_squared_error: 0.7965\n",
      "Epoch 38/50\n",
      "1863/1875 [============================>.] - ETA: 0s - loss: 1.6158 - root_mean_squared_error: 1.2711\n",
      "Epoch 38: val_loss did not improve from 0.59487\n",
      "1875/1875 [==============================] - 7s 4ms/step - loss: 1.6149 - root_mean_squared_error: 1.2708 - val_loss: 0.9682 - val_root_mean_squared_error: 0.9840\n",
      "Epoch 39/50\n",
      "1873/1875 [============================>.] - ETA: 0s - loss: 1.5942 - root_mean_squared_error: 1.2626\n",
      "Epoch 39: val_loss did not improve from 0.59487\n",
      "1875/1875 [==============================] - 7s 4ms/step - loss: 1.5944 - root_mean_squared_error: 1.2627 - val_loss: 0.7673 - val_root_mean_squared_error: 0.8760\n",
      "Epoch 40/50\n",
      "1875/1875 [==============================] - ETA: 0s - loss: 1.6301 - root_mean_squared_error: 1.2767\n",
      "Epoch 40: val_loss did not improve from 0.59487\n",
      "1875/1875 [==============================] - 7s 4ms/step - loss: 1.6301 - root_mean_squared_error: 1.2767 - val_loss: 0.8445 - val_root_mean_squared_error: 0.9189\n",
      "Epoch 41/50\n",
      "1872/1875 [============================>.] - ETA: 0s - loss: 1.5948 - root_mean_squared_error: 1.2629\n",
      "Epoch 41: val_loss did not improve from 0.59487\n",
      "1875/1875 [==============================] - 7s 4ms/step - loss: 1.5950 - root_mean_squared_error: 1.2629 - val_loss: 0.7037 - val_root_mean_squared_error: 0.8389\n",
      "Epoch 42/50\n",
      "1861/1875 [============================>.] - ETA: 0s - loss: 1.6054 - root_mean_squared_error: 1.2671\n",
      "Epoch 42: val_loss did not improve from 0.59487\n",
      "1875/1875 [==============================] - 7s 4ms/step - loss: 1.6037 - root_mean_squared_error: 1.2664 - val_loss: 0.6574 - val_root_mean_squared_error: 0.8108\n",
      "Epoch 43/50\n",
      "1872/1875 [============================>.] - ETA: 0s - loss: 1.5778 - root_mean_squared_error: 1.2561\n",
      "Epoch 43: val_loss did not improve from 0.59487\n",
      "1875/1875 [==============================] - 7s 4ms/step - loss: 1.5783 - root_mean_squared_error: 1.2563 - val_loss: 0.6740 - val_root_mean_squared_error: 0.8210\n",
      "Epoch 44/50\n",
      "1866/1875 [============================>.] - ETA: 0s - loss: 1.5899 - root_mean_squared_error: 1.2609\n",
      "Epoch 44: val_loss did not improve from 0.59487\n",
      "1875/1875 [==============================] - 7s 4ms/step - loss: 1.5903 - root_mean_squared_error: 1.2611 - val_loss: 0.6000 - val_root_mean_squared_error: 0.7746\n",
      "Epoch 45/50\n",
      "1862/1875 [============================>.] - ETA: 0s - loss: 1.5713 - root_mean_squared_error: 1.2535\n",
      "Epoch 45: val_loss did not improve from 0.59487\n",
      "1875/1875 [==============================] - 7s 4ms/step - loss: 1.5740 - root_mean_squared_error: 1.2546 - val_loss: 0.7683 - val_root_mean_squared_error: 0.8765\n",
      "Epoch 46/50\n",
      "1869/1875 [============================>.] - ETA: 0s - loss: 1.5689 - root_mean_squared_error: 1.2526\n",
      "Epoch 46: val_loss did not improve from 0.59487\n",
      "1875/1875 [==============================] - 7s 4ms/step - loss: 1.5678 - root_mean_squared_error: 1.2521 - val_loss: 0.6280 - val_root_mean_squared_error: 0.7925\n",
      "Epoch 47/50\n",
      "1861/1875 [============================>.] - ETA: 0s - loss: 1.6246 - root_mean_squared_error: 1.2746\n",
      "Epoch 47: val_loss did not improve from 0.59487\n",
      "1875/1875 [==============================] - 7s 4ms/step - loss: 1.6247 - root_mean_squared_error: 1.2746 - val_loss: 0.6352 - val_root_mean_squared_error: 0.7970\n",
      "Epoch 48/50\n",
      "1863/1875 [============================>.] - ETA: 0s - loss: 1.5790 - root_mean_squared_error: 1.2566\n",
      "Epoch 48: val_loss did not improve from 0.59487\n",
      "1875/1875 [==============================] - 7s 4ms/step - loss: 1.5786 - root_mean_squared_error: 1.2564 - val_loss: 0.6181 - val_root_mean_squared_error: 0.7862\n",
      "Epoch 49/50\n",
      "1872/1875 [============================>.] - ETA: 0s - loss: 1.5541 - root_mean_squared_error: 1.2466\n",
      "Epoch 49: val_loss did not improve from 0.59487\n",
      "1875/1875 [==============================] - 7s 4ms/step - loss: 1.5531 - root_mean_squared_error: 1.2462 - val_loss: 0.6217 - val_root_mean_squared_error: 0.7885\n",
      "Epoch 50/50\n",
      "1873/1875 [============================>.] - ETA: 0s - loss: 1.5515 - root_mean_squared_error: 1.2456\n",
      "Epoch 50: val_loss did not improve from 0.59487\n",
      "1875/1875 [==============================] - 7s 4ms/step - loss: 1.5521 - root_mean_squared_error: 1.2458 - val_loss: 0.6931 - val_root_mean_squared_error: 0.8325\n"
     ]
    }
   ],
   "source": [
    "history = model.fit(X_train, y_train, validation_data=(X_val, y_val), epochs=50, batch_size = 32, callbacks = [mc])"
   ]
  },
  {
   "cell_type": "markdown",
   "id": "17d2933e-f3c0-4aea-ac36-2105932abcf5",
   "metadata": {},
   "source": [
    "#### Ploting learning curves and loading best model. We can see that we didn't need to train model for that long"
   ]
  },
  {
   "cell_type": "code",
   "execution_count": 46,
   "id": "05ede7e8-a4ef-49e3-9592-2a08bd387486",
   "metadata": {},
   "outputs": [
    {
     "data": {
      "image/png": "[encoded data removed]",
      "text/plain": [
       "<Figure size 640x480 with 2 Axes>"
      ]
     },
     "metadata": {},
     "output_type": "display_data"
    }
   ],
   "source": [
    "plt.subplot(2,1,1)\n",
    "plt.plot(history.history['loss'])\n",
    "plt.plot(history.history['val_loss'])\n",
    "plt.legend(['traning', 'validation'])\n",
    "plt.ylabel('loss')\n",
    "\n",
    "plt.subplot(2,1,2)\n",
    "plt.plot(history.history['root_mean_squared_error'])\n",
    "plt.plot(history.history['val_root_mean_squared_error'])\n",
    "plt.legend(['traning', 'validation'])\n",
    "plt.xlabel('epochs')\n",
    "plt.ylabel('root_mean_squared_error')\n",
    "\n",
    "plt.show()"
   ]
  },
  {
   "cell_type": "code",
   "execution_count": 47,
   "id": "943f7eba-90e7-4f40-9605-2510dfbd423f",
   "metadata": {},
   "outputs": [],
   "source": [
    "from tensorflow.keras.models import load_model\n",
    "model = load_model(r'model/best_model.h5')"
   ]
  },
  {
   "cell_type": "markdown",
   "id": "94405bd1-c275-454e-882f-db2a643c910e",
   "metadata": {},
   "source": [
    "## Prediction and evaluation "
   ]
  },
  {
   "cell_type": "markdown",
   "id": "67a8f264-5dd8-4e4b-ae3e-c605054c6054",
   "metadata": {},
   "source": [
    "#### Using best model we predict temperatures and we create a data frame so we can compare those values"
   ]
  },
  {
   "cell_type": "code",
   "execution_count": 48,
   "id": "ba4a7243-c82d-486e-bb6a-4ad5514bf34f",
   "metadata": {},
   "outputs": [
    {
     "name": "stdout",
     "output_type": "stream",
     "text": [
      "97/97 [==============================] - 1s 2ms/step\n"
     ]
    }
   ],
   "source": [
    "prediction = model.predict(X_test).flatten()"
   ]
  },
  {
   "cell_type": "code",
   "execution_count": 49,
   "id": "e922f3a4-9c96-408e-a527-e9b68d9b06fb",
   "metadata": {},
   "outputs": [
    {
     "data": {
      "text/html": [
       "<div>\n",
       "<style scoped>\n",
       "    .dataframe tbody tr th:only-of-type {\n",
       "        vertical-align: middle;\n",
       "    }\n",
       "\n",
       "    .dataframe tbody tr th {\n",
       "        vertical-align: top;\n",
       "    }\n",
       "\n",
       "    .dataframe thead th {\n",
       "        text-align: right;\n",
       "    }\n",
       "</style>\n",
       "<table border=\"1\" class=\"dataframe\">\n",
       "  <thead>\n",
       "    <tr style=\"text-align: right;\">\n",
       "      <th></th>\n",
       "      <th>Predictions</th>\n",
       "      <th>Actuals</th>\n",
       "    </tr>\n",
       "    <tr>\n",
       "      <th>Date Time</th>\n",
       "      <th></th>\n",
       "      <th></th>\n",
       "    </tr>\n",
       "  </thead>\n",
       "  <tbody>\n",
       "    <tr>\n",
       "      <th>2016-08-22 09:00:00</th>\n",
       "      <td>17.116457</td>\n",
       "      <td>17.83</td>\n",
       "    </tr>\n",
       "    <tr>\n",
       "      <th>2016-08-22 10:00:00</th>\n",
       "      <td>19.024860</td>\n",
       "      <td>19.31</td>\n",
       "    </tr>\n",
       "    <tr>\n",
       "      <th>2016-08-22 11:00:00</th>\n",
       "      <td>20.375523</td>\n",
       "      <td>19.84</td>\n",
       "    </tr>\n",
       "    <tr>\n",
       "      <th>2016-08-22 12:00:00</th>\n",
       "      <td>20.410435</td>\n",
       "      <td>19.97</td>\n",
       "    </tr>\n",
       "    <tr>\n",
       "      <th>2016-08-22 13:00:00</th>\n",
       "      <td>20.080929</td>\n",
       "      <td>20.85</td>\n",
       "    </tr>\n",
       "  </tbody>\n",
       "</table>\n",
       "</div>"
      ],
      "text/plain": [
       "                     Predictions  Actuals\n",
       "Date Time                                \n",
       "2016-08-22 09:00:00    17.116457    17.83\n",
       "2016-08-22 10:00:00    19.024860    19.31\n",
       "2016-08-22 11:00:00    20.375523    19.84\n",
       "2016-08-22 12:00:00    20.410435    19.97\n",
       "2016-08-22 13:00:00    20.080929    20.85"
      ]
     },
     "execution_count": 49,
     "metadata": {},
     "output_type": "execute_result"
    }
   ],
   "source": [
    "results = pd.DataFrame(data={'Predictions':prediction, 'Actuals':y_test})\n",
    "results.head()"
   ]
  },
  {
   "cell_type": "markdown",
   "id": "1cd3899c-952a-4073-b891-ae6b7e4e92f8",
   "metadata": {},
   "source": [
    "#### Then using random values, we plot random fragments of dataframe, so we can compare how model works"
   ]
  },
  {
   "cell_type": "code",
   "execution_count": 59,
   "id": "1904010b-3738-42cd-84e0-af410f23e516",
   "metadata": {},
   "outputs": [
    {
     "data": {
      "image/png": "[encoded data removed]",
      "text/plain": [
       "<Figure size 640x480 with 1 Axes>"
      ]
     },
     "metadata": {},
     "output_type": "display_data"
    }
   ],
   "source": [
    "import random\n",
    "random_num = random.randint(0,len(X_test))\n",
    "plt.plot(results['Actuals'][random_num:random_num+100])\n",
    "plt.plot(results['Predictions'][random_num:random_num+100])\n",
    "plt.legend(['Actuals', 'Predictions'])\n",
    "plt.xlabel('Date')\n",
    "plt.ylabel('Temp (degC)')\n",
    "plt.show()\n"
   ]
  },
  {
   "cell_type": "markdown",
   "id": "f31c8289-6175-4ac0-8038-1f6bd4b3fad1",
   "metadata": {},
   "source": [
    "#### Then we finish, by evaluating our model using Mean Squared Error, R2 Score"
   ]
  },
  {
   "cell_type": "code",
   "execution_count": 51,
   "id": "bca3fb56-dfc6-40e6-8589-280c600dee88",
   "metadata": {},
   "outputs": [
    {
     "name": "stdout",
     "output_type": "stream",
     "text": [
      "Mean_squared_error: 0.5149050782357196, R2: 0.9922890424497027 \n"
     ]
    }
   ],
   "source": [
    "from sklearn.metrics import mean_squared_error, r2_score\n",
    "print(f\"Mean_squared_error: {mean_squared_error(results['Actuals'],results['Predictions'])}, R2: {r2_score(results['Actuals'],results['Predictions'])} \")"
   ]
  },
  {
   "cell_type": "markdown",
   "id": "4182ec32-1a23-4b68-a08b-5ad4fe801a71",
   "metadata": {},
   "source": [
    "#### As we can see, model predicts values pretty well, not perfect, but we can use it to predict temperature by ourselfs. We could improve it by scalling data for example (which I didn't do here, because I wanted to test out how well model will preform without it) and also by changing and plying with model a little bit more"
   ]
  }
 ],
 "metadata": {
  "kernelspec": {
   "display_name": "imageclass",
   "language": "python",
   "name": "imageclass"
  },
  "language_info": {
   "codemirror_mode": {
    "name": "ipython",
    "version": 3
   },
   "file_extension": ".py",
   "mimetype": "text/x-python",
   "name": "python",
   "nbconvert_exporter": "python",
   "pygments_lexer": "ipython3",
   "version": "3.10.9"
  }
 },
 "nbformat": 4,
 "nbformat_minor": 5
}
